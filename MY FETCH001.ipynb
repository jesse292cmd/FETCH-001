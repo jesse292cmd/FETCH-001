{
 "cells": [
  {
   "cell_type": "code",
   "execution_count": 11,
   "metadata": {},
   "outputs": [
    {
     "name": "stdout",
     "output_type": "stream",
     "text": [
      "Tables created successfully.\n"
     ]
    }
   ],
   "source": [
    "import sqlite3\n",
    "\n",
    "# Connect to SQLite database (creates a new database if it doesn't exist)\n",
    "conn = sqlite3.connect('mydatabase.sqlite')\n",
    "cursor = conn.cursor()\n",
    "\n",
    "# Create Users table\n",
    "cursor.execute('''\n",
    "    CREATE TABLE IF NOT EXISTS Users (\n",
    "        user_id TEXT PRIMARY KEY,\n",
    "        active INTEGER,\n",
    "        created_date TEXT,\n",
    "        last_login TEXT,\n",
    "        role TEXT,\n",
    "        sign_up_source TEXT,\n",
    "        state TEXT\n",
    "    )\n",
    "''')\n",
    "\n",
    "# Create Brands table\n",
    "cursor.execute('''\n",
    "    CREATE TABLE IF NOT EXISTS Brands (\n",
    "        brand_id TEXT PRIMARY KEY,\n",
    "        name TEXT,\n",
    "        category TEXT\n",
    "    )\n",
    "''')\n",
    "\n",
    "# Create Receipts table\n",
    "cursor.execute('''\n",
    "    CREATE TABLE IF NOT EXISTS Receipts (\n",
    "        receipt_id TEXT PRIMARY KEY,\n",
    "        user_id TEXT,\n",
    "        brand_id TEXT,\n",
    "        date_scanned TEXT,\n",
    "        total_spent REAL,\n",
    "        rewards_receipt_status TEXT,\n",
    "        num_items INTEGER,\n",
    "        FOREIGN KEY (user_id) REFERENCES Users(user_id),\n",
    "        FOREIGN KEY (brand_id) REFERENCES Brands(brand_id)\n",
    "    )\n",
    "''')\n",
    "\n",
    "# Commit the transaction\n",
    "conn.commit()\n",
    "\n",
    "# Close the connection\n",
    "conn.close()\n",
    "\n",
    "print(\"Tables created successfully.\")\n"
   ]
  },
  {
   "cell_type": "code",
   "execution_count": 12,
   "metadata": {},
   "outputs": [
    {
     "name": "stdout",
     "output_type": "stream",
     "text": [
      "Data inserted successfully.\n"
     ]
    }
   ],
   "source": [
    "import sqlite3\n",
    "\n",
    "# Connect to SQLite database\n",
    "conn = sqlite3.connect('mydatabase.sqlite')\n",
    "cursor = conn.cursor()\n",
    "\n",
    "# Insert data into Users table\n",
    "users_data = [\n",
    "    ('user1', 1, '2023-01-01', '2023-06-20', 'admin', 'web', 'CA'),\n",
    "    ('user2', 1, '2023-02-01', '2023-06-22', 'user', 'mobile', 'NY')\n",
    "]\n",
    "\n",
    "cursor.executemany('''\n",
    "    INSERT INTO Users (user_id, active, created_date, last_login, role, sign_up_source, state)\n",
    "    VALUES (?, ?, ?, ?, ?, ?, ?)\n",
    "''', users_data)\n",
    "\n",
    "# Insert data into Brands table\n",
    "brands_data = [\n",
    "    ('brand1', 'BrandA', 'Category1'),\n",
    "    ('brand2', 'BrandB', 'Category2')\n",
    "]\n",
    "\n",
    "cursor.executemany('''\n",
    "    INSERT INTO Brands (brand_id, name, category)\n",
    "    VALUES (?, ?, ?)\n",
    "''', brands_data)\n",
    "\n",
    "# Insert data into Receipts table\n",
    "receipts_data = [\n",
    "    ('receipt1', 'user1', 'brand1', '2023-05-01', 100.00, 'Accepted', 10),\n",
    "    ('receipt2', 'user2', 'brand2', '2023-06-01', 200.00, 'Rejected', 20)\n",
    "]\n",
    "\n",
    "cursor.executemany('''\n",
    "    INSERT INTO Receipts (receipt_id, user_id, brand_id, date_scanned, total_spent, rewards_receipt_status, num_items)\n",
    "    VALUES (?, ?, ?, ?, ?, ?, ?)\n",
    "''', receipts_data)\n",
    "\n",
    "# Commit the transaction\n",
    "conn.commit()\n",
    "\n",
    "# Close the connection\n",
    "conn.close()\n",
    "\n",
    "print(\"Data inserted successfully.\")\n"
   ]
  },
  {
   "cell_type": "code",
   "execution_count": 13,
   "metadata": {},
   "outputs": [
    {
     "name": "stdout",
     "output_type": "stream",
     "text": [
      "\n",
      "Users:\n",
      "('user1', 1, '2023-01-01', '2023-06-20', 'admin', 'web', 'CA')\n",
      "('user2', 1, '2023-02-01', '2023-06-22', 'user', 'mobile', 'NY')\n",
      "\n",
      "Brands:\n",
      "('brand1', 'BrandA', 'Category1')\n",
      "('brand2', 'BrandB', 'Category2')\n",
      "\n",
      "Receipts:\n",
      "('receipt1', 'user1', 'brand1', '2023-05-01', 100.0, 'Accepted', 10)\n",
      "('receipt2', 'user2', 'brand2', '2023-06-01', 200.0, 'Rejected', 20)\n"
     ]
    }
   ],
   "source": [
    "import sqlite3\n",
    "\n",
    "# Connect to SQLite database\n",
    "conn = sqlite3.connect('mydatabase.sqlite')\n",
    "cursor = conn.cursor()\n",
    "\n",
    "# Query and print all users\n",
    "cursor.execute('SELECT * FROM Users')\n",
    "print(\"\\nUsers:\")\n",
    "for row in cursor.fetchall():\n",
    "    print(row)\n",
    "\n",
    "# Query and print all brands\n",
    "cursor.execute('SELECT * FROM Brands')\n",
    "print(\"\\nBrands:\")\n",
    "for row in cursor.fetchall():\n",
    "    print(row)\n",
    "\n",
    "# Query and print all receipts\n",
    "cursor.execute('SELECT * FROM Receipts')\n",
    "print(\"\\nReceipts:\")\n",
    "for row in cursor.fetchall():\n",
    "    print(row)\n",
    "\n",
    "# Close the connection\n",
    "conn.close()\n"
   ]
  },
  {
   "cell_type": "code",
   "execution_count": 35,
   "metadata": {},
   "outputs": [
    {
     "name": "stdout",
     "output_type": "stream",
     "text": [
      "\n",
      "Query 3: Average Spend from Receipts with 'Accepted' or 'Rejected' Status\n",
      "Accepted: $100.00 average spend\n",
      "Rejected: $200.00 average spend\n"
     ]
    }
   ],
   "source": [
    "def query_avg_spend(conn):\n",
    "    cursor = conn.cursor()\n",
    "    cursor.execute('''\n",
    "        SELECT rewards_receipt_status, AVG(total_spent) AS avg_spent\n",
    "        FROM Receipts\n",
    "        WHERE rewards_receipt_status IN ('Accepted', 'Rejected')\n",
    "        GROUP BY rewards_receipt_status\n",
    "    ''')\n",
    "    rows = cursor.fetchall()\n",
    "    return rows\n",
    "\n",
    "# Execute Query 3\n",
    "print(\"\\nQuery 3: Average Spend from Receipts with 'Accepted' or 'Rejected' Status\")\n",
    "results_3 = query_avg_spend(conn)\n",
    "for row in results_3:\n",
    "    print(f\"{row[0]}: ${row[1]:.2f} average spend\")\n"
   ]
  },
  {
   "cell_type": "code",
   "execution_count": 36,
   "metadata": {},
   "outputs": [
    {
     "name": "stdout",
     "output_type": "stream",
     "text": [
      "\n",
      "Query 4: Total Number of Items Purchased from Receipts with 'Accepted' or 'Rejected' Status\n",
      "Accepted: 10 total items\n",
      "Rejected: 20 total items\n"
     ]
    }
   ],
   "source": [
    "def query_total_items_by_status(conn):\n",
    "    cursor = conn.cursor()\n",
    "    cursor.execute('''\n",
    "        SELECT rewards_receipt_status, SUM(num_items) AS total_items\n",
    "        FROM Receipts\n",
    "        WHERE rewards_receipt_status IN ('Accepted', 'Rejected')\n",
    "        GROUP BY rewards_receipt_status\n",
    "    ''')\n",
    "    rows = cursor.fetchall()\n",
    "    return rows\n",
    "\n",
    "# Execute Query 4\n",
    "results_4 = query_total_items_by_status(conn)\n",
    "print(\"\\nQuery 4: Total Number of Items Purchased from Receipts with 'Accepted' or 'Rejected' Status\")\n",
    "for row in results_4:\n",
    "    print(f\"{row[0]}: {row[1]} total items\")\n"
   ]
  },
  {
   "cell_type": "code",
   "execution_count": 40,
   "metadata": {},
   "outputs": [
    {
     "name": "stdout",
     "output_type": "stream",
     "text": [
      "\n",
      "Comparison of Rankings between Recent Month and Previous Month:\n",
      "1. Recent Month: -, Previous Month: -\n",
      "2. Recent Month: -, Previous Month: -\n",
      "3. Recent Month: -, Previous Month: -\n",
      "4. Recent Month: -, Previous Month: -\n",
      "5. Recent Month: -, Previous Month: -\n"
     ]
    }
   ],
   "source": [
    "def compare_rankings_recent_vs_previous(conn):\n",
    "    # Query for recent month\n",
    "    cursor = conn.cursor()\n",
    "    cursor.execute('''\n",
    "        SELECT b.name, COUNT(r.receipt_id) AS num_receipts\n",
    "        FROM Receipts r\n",
    "        JOIN Brands b ON r.brand_id = b.brand_id\n",
    "        WHERE r.date_scanned >= DATE('now', '-1 month')\n",
    "        GROUP BY b.name\n",
    "        ORDER BY num_receipts DESC\n",
    "        LIMIT 5\n",
    "    ''')\n",
    "    recent_month = cursor.fetchall()\n",
    "\n",
    "    # Query for previous month\n",
    "    cursor.execute('''\n",
    "        SELECT b.name, COUNT(r.receipt_id) AS num_receipts\n",
    "        FROM Receipts r\n",
    "        JOIN Brands b ON r.brand_id = b.brand_id\n",
    "        WHERE r.date_scanned >= DATE('now', '-2 month') AND r.date_scanned < DATE('now', '-1 month')\n",
    "        GROUP BY b.name\n",
    "        ORDER BY num_receipts DESC\n",
    "        LIMIT 5\n",
    "    ''')\n",
    "    previous_month = cursor.fetchall()\n",
    "\n",
    "    # Print comparison\n",
    "    print(\"\\nComparison of Rankings between Recent Month and Previous Month:\")\n",
    "    for i in range(5):\n",
    "        brand_recent = recent_month[i][0] if i < len(recent_month) else \"-\"\n",
    "        brand_previous = previous_month[i][0] if i < len(previous_month) else \"-\"\n",
    "        print(f\"{i+1}. Recent Month: {brand_recent}, Previous Month: {brand_previous}\")\n",
    "\n",
    "# Execute Query 2\n",
    "compare_rankings_recent_vs_previous(conn)\n"
   ]
  },
  {
   "cell_type": "code",
   "execution_count": 51,
   "metadata": {},
   "outputs": [],
   "source": [
    "import json\n",
    "\n",
    "# Function to load JSON data from file\n",
    "def load_json_file(file_path):\n",
    "    with open(file_path) as f:\n",
    "        data = json.load(f)\n",
    "    return data\n"
   ]
  },
  {
   "cell_type": "code",
   "execution_count": 52,
   "metadata": {},
   "outputs": [],
   "source": [
    "# Function to find duplicate user IDs\n",
    "def find_duplicate_user_ids(users):\n",
    "    user_ids = [user['_id']['$oid'] for user in users]\n",
    "    duplicate_user_ids = set([uid for uid in user_ids if user_ids.count(uid) > 1])\n",
    "    return duplicate_user_ids\n"
   ]
  },
  {
   "cell_type": "code",
   "execution_count": 53,
   "metadata": {},
   "outputs": [],
   "source": [
    "# Function to find brands with missing fields\n",
    "def find_brands_with_issues(brands):\n",
    "    brands_with_issues = [brand for brand in brands if not all(key in brand for key in ('_id', 'name', 'category'))]\n",
    "    return brands_with_issues\n"
   ]
  },
  {
   "cell_type": "code",
   "execution_count": 54,
   "metadata": {},
   "outputs": [],
   "source": [
    "# Function to find receipts with missing user or brand IDs\n",
    "def find_receipts_with_issues(receipts):\n",
    "    receipts_with_issues = [receipt for receipt in receipts if 'user_id' not in receipt or 'brand_id' not in receipt]\n",
    "    return receipts_with_issues\n"
   ]
  },
  {
   "cell_type": "code",
   "execution_count": 56,
   "metadata": {},
   "outputs": [
    {
     "name": "stdout",
     "output_type": "stream",
     "text": [
      "Error decoding JSON in file 'users.json': Extra data: line 2 column 1 (char 186)\n",
      "Error decoding JSON in file 'brands.json': Extra data: line 2 column 1 (char 229)\n",
      "Error decoding JSON in file 'receipts.json': Extra data: line 2 column 1 (char 871)\n",
      "Failed to load one or more JSON files. Exiting.\n"
     ]
    }
   ],
   "source": [
    "import json\n",
    "\n",
    "# Function to load JSON data from file\n",
    "def load_json_file(file_path):\n",
    "    try:\n",
    "        with open(file_path, 'r') as f:\n",
    "            data = json.load(f)\n",
    "            return data\n",
    "    except FileNotFoundError:\n",
    "        print(f\"File '{file_path}' not found.\")\n",
    "        return None\n",
    "    except json.JSONDecodeError as e:\n",
    "        print(f\"Error decoding JSON in file '{file_path}': {e}\")\n",
    "        return None\n",
    "\n",
    "# Function to find duplicate user IDs\n",
    "def find_duplicate_user_ids(users):\n",
    "    user_ids = [user.get('_id', {}).get('$oid') for user in users]\n",
    "    if len(user_ids) != len(set(user_ids)):\n",
    "        return [uid for uid in set(user_ids) if user_ids.count(uid) > 1]\n",
    "    else:\n",
    "        return []\n",
    "\n",
    "# Function to find brands with missing fields\n",
    "def find_brands_with_issues(brands):\n",
    "    return [brand for brand in brands if not all(key in brand for key in ('_id', 'name', 'category'))]\n",
    "\n",
    "# Function to find receipts with missing user or brand IDs\n",
    "def find_receipts_with_issues(receipts):\n",
    "    return [receipt for receipt in receipts if 'user_id' not in receipt or 'brand_id' not in receipt]\n",
    "\n",
    "# Main function to execute data quality checks\n",
    "def main():\n",
    "    # Load JSON files\n",
    "    users = load_json_file('users.json')\n",
    "    brands = load_json_file('brands.json')\n",
    "    receipts = load_json_file('receipts.json')\n",
    "\n",
    "    if not users or not brands or not receipts:\n",
    "        print(\"Failed to load one or more JSON files. Exiting.\")\n",
    "        return\n",
    "\n",
    "    # Check for duplicate user IDs\n",
    "    duplicate_user_ids = find_duplicate_user_ids(users)\n",
    "    if duplicate_user_ids:\n",
    "        print(\"Duplicate User IDs:\", duplicate_user_ids)\n",
    "    else:\n",
    "        print(\"No duplicate user IDs found.\")\n",
    "\n",
    "    # Check for brands with missing fields\n",
    "    brands_with_issues = find_brands_with_issues(brands)\n",
    "    if brands_with_issues:\n",
    "        print(\"Brands with Missing Fields:\", brands_with_issues)\n",
    "    else:\n",
    "        print(\"No brands with missing fields.\")\n",
    "\n",
    "    # Check for receipts with missing user or brand IDs\n",
    "    receipts_with_issues = find_receipts_with_issues(receipts)\n",
    "    if receipts_with_issues:\n",
    "        print(\"Receipts with Missing User or Brand IDs:\", receipts_with_issues)\n",
    "    else:\n",
    "        print(\"No receipts with missing user or brand IDs.\")\n",
    "\n",
    "if __name__ == \"__main__\":\n",
    "    main()\n",
    "\n"
   ]
  },
  {
   "cell_type": "code",
   "execution_count": null,
   "metadata": {},
   "outputs": [],
   "source": [
    "Subject: Data Model Review and Insights\n",
    "\n",
    "Hi Stakeholders,\n",
    "\n",
    "I have reviewed the provided unstructured JSON data and developed a new structured relational data model to enhance data management and analytics capabilities. The new model includes Users, Brands, and Receipts tables with appropriate relationships.\n",
    "\n",
    "I have also written SQL queries to answer the following business questions:\n",
    "1. Average Spend from Receipts with 'Accepted' or 'Rejected' Status\n",
    "2.  total number of items purchased from receipts with 'rewardsReceiptStatus’ of ‘Accepted’ or ‘Rejected’\n",
    "\n",
    "Additionally, I performed a data quality assessment and identified some issues:\n",
    "1. Duplicate user IDs in the users data.\n",
    "2. Missing fields in some brand records.\n",
    "3. Inconsistencies in receipts data, such as missing user or brand IDs.\n",
    "\n",
    "To address these issues, we need to:\n",
    "1. Remove or merge duplicate user records.\n",
    "2. Ensure all brand records have the required fields.\n",
    "3. Validate and clean the receipts data.\n",
    "\n",
    "Please let me know if you have any questions or need further details.\n",
    "\n",
    "Best regards,\n",
    "Jesse nwimo\n"
   ]
  }
 ],
 "metadata": {
  "kernelspec": {
   "display_name": "Python 3",
   "language": "python",
   "name": "python3"
  },
  "language_info": {
   "codemirror_mode": {
    "name": "ipython",
    "version": 3
   },
   "file_extension": ".py",
   "mimetype": "text/x-python",
   "name": "python",
   "nbconvert_exporter": "python",
   "pygments_lexer": "ipython3",
   "version": "3.10.6"
  }
 },
 "nbformat": 4,
 "nbformat_minor": 2
}
